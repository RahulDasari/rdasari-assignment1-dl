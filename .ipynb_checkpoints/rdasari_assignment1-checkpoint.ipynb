{
 "cells": [
  {
   "cell_type": "code",
   "execution_count": 1,
   "id": "67c32e6c",
   "metadata": {},
   "outputs": [],
   "source": [
    "import torch\n",
    "import torchvision"
   ]
  },
  {
   "cell_type": "code",
   "execution_count": 2,
   "id": "e8aa526b",
   "metadata": {},
   "outputs": [
    {
     "name": "stdout",
     "output_type": "stream",
     "text": [
      "mkdir: cannot create directory ‘./data’: File exists\r\n"
     ]
    }
   ],
   "source": [
    "!mkdir ./data"
   ]
  },
  {
   "cell_type": "code",
   "execution_count": 3,
   "id": "d8b1b89e",
   "metadata": {},
   "outputs": [],
   "source": [
    "train_loader = torch.utils.data.DataLoader(\n",
    "  torchvision.datasets.MNIST('./data/', train=True,download=True,transform=torchvision.transforms.Compose([torchvision.transforms.ToTensor()])),\n",
    "  batch_size=64, shuffle=True)\n",
    "\n",
    "test_loader = torch.utils.data.DataLoader(\n",
    "  torchvision.datasets.MNIST('./data/', train=False,download=True,transform=torchvision.transforms.Compose([torchvision.transforms.ToTensor()])),\n",
    "  batch_size=64, shuffle=True)"
   ]
  },
  {
   "cell_type": "code",
   "execution_count": 4,
   "id": "73da3404",
   "metadata": {},
   "outputs": [],
   "source": [
    "import torch.nn as nn\n",
    "import torch.nn.functional as F\n",
    "import torch.optim as optim"
   ]
  },
  {
   "cell_type": "code",
   "execution_count": 5,
   "id": "c3c94c93",
   "metadata": {},
   "outputs": [],
   "source": [
    "class Net(nn.Module):\n",
    "    def __init__(self):\n",
    "        super(Net, self).__init__()\n",
    "        self.conv1 = nn.Conv2d(1, 30, kernel_size=7)\n",
    "        self.drop_1 = nn.Dropout2d()\n",
    "        self.conv2 = nn.Conv2d(30, 40, kernel_size=5)\n",
    "        self.drop_2 = nn.Dropout2d()\n",
    "        self.conv3 = nn.Conv2d(40, 60, kernel_size=3)\n",
    "        self.drop_3 = nn.Dropout2d()\n",
    "        self.fc1 = nn.Linear(15360, 5000)\n",
    "        self.fc2 = nn.Linear(5000, 500)\n",
    "        self.fc3 = nn.Linear(500, 50)\n",
    "        self.fc4 = nn.Linear(50, 10)\n",
    "\n",
    "    def forward(self, x):\n",
    "        x = F.relu(self.drop_1(self.conv1(x)))\n",
    "        x = F.relu(self.drop_2(self.conv2(x)))\n",
    "        x = F.relu(self.drop_3(self.conv3(x)))\n",
    "        x = x.view(x.shape[0], x.shape[1]*x.shape[2]*x.shape[3])\n",
    "        x = F.relu(self.fc1(x))\n",
    "        x = F.relu(self.fc2(x))\n",
    "        x = F.relu(self.fc3(x))\n",
    "        x = self.fc4(x)\n",
    "        return x"
   ]
  },
  {
   "cell_type": "code",
   "execution_count": 6,
   "id": "1b7c30e4",
   "metadata": {},
   "outputs": [],
   "source": [
    "model = Net()\n",
    "optimizer = optim.SGD(model.parameters(), lr=0.01,\n",
    "                      momentum=0.5)"
   ]
  },
  {
   "cell_type": "code",
   "execution_count": 7,
   "id": "ba1c7cae",
   "metadata": {},
   "outputs": [],
   "source": [
    "from torchviz import make_dot"
   ]
  },
  {
   "cell_type": "code",
   "execution_count": 8,
   "id": "29c1748d",
   "metadata": {},
   "outputs": [
    {
     "data": {
      "text/plain": [
       "'comp_graph.png'"
      ]
     },
     "execution_count": 8,
     "metadata": {},
     "output_type": "execute_result"
    }
   ],
   "source": [
    "data , label = next(iter(train_loader))\n",
    "y = model(data)\n",
    "make_dot(y, params=dict(model.named_parameters())).render(\"comp_graph\", format=\"png\")"
   ]
  },
  {
   "cell_type": "code",
   "execution_count": null,
   "id": "4c507fbd",
   "metadata": {},
   "outputs": [],
   "source": [
    "device = torch.device(\"cuda\" if torch.cuda.is_available() else \"cpu\")\n",
    "test_losses = []\n",
    "test_loss =0\n",
    "train_losses = []\n",
    "test_counter = []\n",
    "count = 0\n",
    "model.cuda()\n",
    "for epoch in range(1, 5):\n",
    "    for data, target in iter(train_loader):\n",
    "        model.train()\n",
    "        optimizer.zero_grad()\n",
    "        output = model(data.to(device))\n",
    "        loss = F.cross_entropy(output, target.to( device))\n",
    "        loss.backward()\n",
    "        optimizer.step()\n",
    "        train_losses.append(loss.item())\n",
    "        count += 1\n",
    "        model.eval()\n",
    "        with torch.no_grad():\n",
    "            data , target = next(iter(test_loader))\n",
    "            output = model(data.to( device))\n",
    "            test_loss = F.cross_entropy(output, target.to( device)).item()\n",
    "            test_losses.append(test_loss)\n",
    "            test_counter.append(count)\n"
   ]
  },
  {
   "cell_type": "code",
   "execution_count": null,
   "id": "63eee1d9",
   "metadata": {},
   "outputs": [],
   "source": [
    "import matplotlib.pyplot as plt"
   ]
  },
  {
   "cell_type": "code",
   "execution_count": null,
   "id": "dae514fc",
   "metadata": {},
   "outputs": [],
   "source": [
    "fig = plt.figure()\n",
    "plt.ylabel('Train loss')\n",
    "plt.plot(train_losses)\n"
   ]
  },
  {
   "cell_type": "code",
   "execution_count": null,
   "id": "8361ebf2",
   "metadata": {},
   "outputs": [],
   "source": [
    "fig = plt.figure()\n",
    "plt.ylabel('Test loss')\n",
    "plt.plot(test_losses)"
   ]
  },
  {
   "cell_type": "code",
   "execution_count": null,
   "id": "562ac246",
   "metadata": {},
   "outputs": [],
   "source": []
  },
  {
   "cell_type": "code",
   "execution_count": null,
   "id": "a111d209",
   "metadata": {},
   "outputs": [],
   "source": []
  }
 ],
 "metadata": {
  "kernelspec": {
   "display_name": "Python 3 (ipykernel)",
   "language": "python",
   "name": "python3"
  },
  "language_info": {
   "codemirror_mode": {
    "name": "ipython",
    "version": 3
   },
   "file_extension": ".py",
   "mimetype": "text/x-python",
   "name": "python",
   "nbconvert_exporter": "python",
   "pygments_lexer": "ipython3",
   "version": "3.10.9"
  }
 },
 "nbformat": 4,
 "nbformat_minor": 5
}
